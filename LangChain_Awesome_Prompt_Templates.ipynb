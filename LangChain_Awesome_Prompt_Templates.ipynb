{
  "nbformat": 4,
  "nbformat_minor": 0,
  "metadata": {
    "colab": {
      "provenance": [],
      "authorship_tag": "ABX9TyMH5D/e0j5eB5AHW7slj5aa",
      "include_colab_link": true
    },
    "kernelspec": {
      "name": "python3",
      "display_name": "Python 3"
    },
    "language_info": {
      "name": "python"
    }
  },
  "cells": [
    {
      "cell_type": "markdown",
      "metadata": {
        "id": "view-in-github",
        "colab_type": "text"
      },
      "source": [
        "<a href=\"https://colab.research.google.com/github/sugarforever/LangChain-Awesome-Prompt-Templates/blob/main/LangChain_Awesome_Prompt_Templates.ipynb\" target=\"_parent\"><img src=\"https://colab.research.google.com/assets/colab-badge.svg\" alt=\"Open In Colab\"/></a>"
      ]
    },
    {
      "cell_type": "code",
      "execution_count": null,
      "metadata": {
        "id": "Od0lHgdl0TIK"
      },
      "outputs": [],
      "source": [
        "%pip install openai\n",
        "%pip install langchain"
      ]
    },
    {
      "cell_type": "code",
      "source": [
        "from langchain import PromptTemplate\n",
        "\n",
        "no_input_prompt = PromptTemplate(input_variables=[], template=\"请给我讲个笑话\")\n",
        "no_input_prompt.format()"
      ],
      "metadata": {
        "id": "hs6f_anu1UT9"
      },
      "execution_count": null,
      "outputs": []
    },
    {
      "cell_type": "code",
      "source": [
        "one_input_prompt = PromptTemplate(input_variables=[\"adjective\"], template=\"请给我讲个{adjective}的笑话.\")\n",
        "one_input_prompt.format(adjective=\"有趣\")"
      ],
      "metadata": {
        "id": "HSnp2k4N1cm5"
      },
      "execution_count": null,
      "outputs": []
    },
    {
      "cell_type": "code",
      "source": [
        "multiple_input_prompt = PromptTemplate(\n",
        "    input_variables=[\"adjective\", \"content\"], \n",
        "    template=\"请给我讲个关于{content}的{adjective}的笑话.\"\n",
        ")\n",
        "multiple_input_prompt.format(adjective=\"有趣\", content=\"猪八戒\")"
      ],
      "metadata": {
        "id": "Z-VhLnyG2Ga-"
      },
      "execution_count": null,
      "outputs": []
    },
    {
      "cell_type": "code",
      "source": [
        "OPENAI_API_KEY=''"
      ],
      "metadata": {
        "id": "JKddTSPG2tmn"
      },
      "execution_count": null,
      "outputs": []
    },
    {
      "cell_type": "code",
      "source": [
        "from langchain.llms import OpenAI\n",
        "from langchain.chains import LLMChain, LLMRequestsChain\n",
        "\n",
        "openai = OpenAI(temperature=0, openai_api_key=OPENAI_API_KEY)\n",
        "\n",
        "print(openai(multiple_input_prompt.format(adjective=\"灰色幽默\", content=\"猪八戒\")))"
      ],
      "metadata": {
        "id": "ufGsJC5-2nVV"
      },
      "execution_count": null,
      "outputs": []
    },
    {
      "cell_type": "code",
      "source": [
        "prompt = \"\"\"The following are exerpts from conversations with an AI\n",
        "assistant. The assistant is speaking like a famous movie character.\n",
        "\n",
        "User: Where is New York?\n",
        "AI: \"\"\"\n",
        "\n",
        "print(openai(prompt))"
      ],
      "metadata": {
        "id": "9vje4Xu2lTrK"
      },
      "execution_count": null,
      "outputs": []
    },
    {
      "cell_type": "code",
      "source": [
        "examples = [\n",
        "    {\n",
        "        \"query\": \"What sports do you play?\",\n",
        "        \"answer\": \"Soccer, I play.\"\n",
        "    }, {\n",
        "        \"query\": \"Where is this?\",\n",
        "        \"answer\": \"My home, this is.\"\n",
        "    }, {\n",
        "        \"query\": \"Are you leaving now?\",\n",
        "        \"answer\": \"Stay and help you, I will.\"\n",
        "    }, {\n",
        "        \"query\": \"How are you feeling?\",\n",
        "        \"answer\": \"Great I feel.\"\n",
        "    }\n",
        "]"
      ],
      "metadata": {
        "id": "g7r0UyAwfwes"
      },
      "execution_count": null,
      "outputs": []
    },
    {
      "cell_type": "code",
      "source": [
        "example_template = \"\"\"\n",
        "Human: {query}\n",
        "AI: {answer}\n",
        "\"\"\"\n",
        "\n",
        "example_prompt = PromptTemplate(\n",
        "    input_variables=[\"query\", \"answer\"],\n",
        "    template=example_template\n",
        ")\n",
        "\n",
        "prefix = \"\"\"The following are exerpts from conversations with an AI\n",
        "assistant. The assistant is speaking like a famous movie character.\n",
        "\n",
        "Here are some examples:\n",
        "\"\"\"\n",
        "\n",
        "suffix = \"\"\"\n",
        "Human: {query}\n",
        "AI: \"\"\"\n",
        "\n",
        "from langchain import FewShotPromptTemplate\n",
        "few_shot_prompt_template = FewShotPromptTemplate(\n",
        "    examples=examples,\n",
        "    example_prompt=example_prompt,\n",
        "    prefix=prefix,\n",
        "    suffix=suffix,\n",
        "    input_variables=[\"query\"],\n",
        "    example_separator=\"\\n\\n\"\n",
        ")\n",
        "\n",
        "print(few_shot_prompt_template.format(query=\"Where is New York?\"))"
      ],
      "metadata": {
        "id": "BbdUw-tZgIOJ"
      },
      "execution_count": null,
      "outputs": []
    },
    {
      "cell_type": "code",
      "source": [
        "openai = OpenAI(temperature=0, openai_api_key=OPENAI_API_KEY)\n",
        "print(openai(few_shot_prompt_template.format(query=\"Where is New York?\")))"
      ],
      "metadata": {
        "id": "O39-6MO1mjnV"
      },
      "execution_count": null,
      "outputs": []
    },
    {
      "cell_type": "code",
      "source": [
        "from langchain.prompts.example_selector import LengthBasedExampleSelector\n",
        "\n",
        "example_template = \"\"\"\n",
        "Human: {query}\n",
        "AI: {answer}\n",
        "\"\"\"\n",
        "\n",
        "example_prompt = PromptTemplate(\n",
        "    input_variables=[\"query\", \"answer\"],\n",
        "    template=example_template\n",
        ")\n",
        "\n",
        "example_selector = LengthBasedExampleSelector(\n",
        "    examples=examples,\n",
        "    example_prompt=example_prompt,\n",
        "    max_length=60\n",
        ")"
      ],
      "metadata": {
        "id": "0bXN6SU_mwaY"
      },
      "execution_count": null,
      "outputs": []
    },
    {
      "cell_type": "code",
      "source": [
        "few_shot_prompt_template = FewShotPromptTemplate(\n",
        "    example_selector=example_selector,\n",
        "    example_prompt=example_prompt,\n",
        "    prefix=prefix,\n",
        "    suffix=suffix,\n",
        "    input_variables=[\"query\"],\n",
        "    example_separator=\"\\n\"\n",
        ")\n",
        "print(few_shot_prompt_template.format(query=\"Where is New York?\"))"
      ],
      "metadata": {
        "id": "ZeqJ1UYYnCdd"
      },
      "execution_count": null,
      "outputs": []
    }
  ]
}